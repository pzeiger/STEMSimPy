{
 "cells": [
  {
   "cell_type": "code",
   "execution_count": 1,
   "metadata": {},
   "outputs": [],
   "source": [
    "import stemsimpy as ssp"
   ]
  },
  {
   "cell_type": "code",
   "execution_count": 2,
   "metadata": {},
   "outputs": [
    {
     "name": "stdout",
     "output_type": "stream",
     "text": [
      "instantiating FrozenPhononMultislice()\n"
     ]
    },
    {
     "ename": "NameError",
     "evalue": "name 'init_from_projyaml' is not defined",
     "output_type": "error",
     "traceback": [
      "\u001b[0;31m---------------------------------------------------------------------------\u001b[0m",
      "\u001b[0;31mNameError\u001b[0m                                 Traceback (most recent call last)",
      "\u001b[0;32m<ipython-input-2-677e79fb9883>\u001b[0m in \u001b[0;36m<module>\u001b[0;34m\u001b[0m\n\u001b[1;32m      1\u001b[0m \u001b[0;31m# Mode: Frozen Phonon Multislice (FPMS)\u001b[0m\u001b[0;34m\u001b[0m\u001b[0;34m\u001b[0m\u001b[0;34m\u001b[0m\u001b[0m\n\u001b[1;32m      2\u001b[0m \u001b[0;34m\u001b[0m\u001b[0m\n\u001b[0;32m----> 3\u001b[0;31m \u001b[0msim\u001b[0m \u001b[0;34m=\u001b[0m \u001b[0mssp\u001b[0m\u001b[0;34m.\u001b[0m\u001b[0mopen_project\u001b[0m\u001b[0;34m(\u001b[0m\u001b[0msimtype\u001b[0m\u001b[0;34m=\u001b[0m\u001b[0;34m'FPMS'\u001b[0m\u001b[0;34m,\u001b[0m \u001b[0mprojfile\u001b[0m\u001b[0;34m=\u001b[0m\u001b[0;34m'project.zarr'\u001b[0m\u001b[0;34m)\u001b[0m\u001b[0;34m\u001b[0m\u001b[0;34m\u001b[0m\u001b[0m\n\u001b[0m",
      "\u001b[0;32m~/git/ASPP_course/project/STEMSimPy/stemsimpy/__init__.py\u001b[0m in \u001b[0;36mopen_project\u001b[0;34m(projfile, simtype, inputyaml)\u001b[0m\n\u001b[1;32m     43\u001b[0m     \"\"\"\n\u001b[1;32m     44\u001b[0m     \u001b[0mselector\u001b[0m \u001b[0;34m=\u001b[0m \u001b[0m_SimSelect\u001b[0m\u001b[0;34m(\u001b[0m\u001b[0;34m)\u001b[0m\u001b[0;34m\u001b[0m\u001b[0;34m\u001b[0m\u001b[0m\n\u001b[0;32m---> 45\u001b[0;31m     \u001b[0;32mreturn\u001b[0m \u001b[0mselector\u001b[0m\u001b[0;34m.\u001b[0m\u001b[0m_run_simtype\u001b[0m\u001b[0;34m(\u001b[0m\u001b[0msimtype\u001b[0m\u001b[0;34m=\u001b[0m\u001b[0msimtype\u001b[0m\u001b[0;34m,\u001b[0m \u001b[0mprojfile\u001b[0m\u001b[0;34m=\u001b[0m\u001b[0mprojfile\u001b[0m\u001b[0;34m,\u001b[0m \u001b[0minputyaml\u001b[0m\u001b[0;34m=\u001b[0m\u001b[0minputyaml\u001b[0m\u001b[0;34m)\u001b[0m\u001b[0;34m\u001b[0m\u001b[0;34m\u001b[0m\u001b[0m\n\u001b[0m\u001b[1;32m     46\u001b[0m \u001b[0;34m\u001b[0m\u001b[0m\n\u001b[1;32m     47\u001b[0m \u001b[0;34m\u001b[0m\u001b[0m\n",
      "\u001b[0;32m~/git/ASPP_course/project/STEMSimPy/stemsimpy/__init__.py\u001b[0m in \u001b[0;36m_run_simtype\u001b[0;34m(self, simtype, projfile, inputyaml)\u001b[0m\n\u001b[1;32m     30\u001b[0m         \u001b[0mmethod_name\u001b[0m \u001b[0;34m=\u001b[0m \u001b[0;34m'_instantiate_'\u001b[0m \u001b[0;34m+\u001b[0m \u001b[0mstr\u001b[0m\u001b[0;34m(\u001b[0m\u001b[0msimtype\u001b[0m\u001b[0;34m)\u001b[0m\u001b[0;34m.\u001b[0m\u001b[0mlower\u001b[0m\u001b[0;34m(\u001b[0m\u001b[0;34m)\u001b[0m\u001b[0;34m\u001b[0m\u001b[0;34m\u001b[0m\u001b[0m\n\u001b[1;32m     31\u001b[0m         \u001b[0mmethod\u001b[0m \u001b[0;34m=\u001b[0m \u001b[0mgetattr\u001b[0m\u001b[0;34m(\u001b[0m\u001b[0mself\u001b[0m\u001b[0;34m,\u001b[0m \u001b[0mmethod_name\u001b[0m\u001b[0;34m,\u001b[0m \u001b[0;32mlambda\u001b[0m\u001b[0;34m:\u001b[0m \u001b[0;34m\"Invalid method\"\u001b[0m\u001b[0;34m)\u001b[0m\u001b[0;34m\u001b[0m\u001b[0;34m\u001b[0m\u001b[0m\n\u001b[0;32m---> 32\u001b[0;31m         \u001b[0;32mreturn\u001b[0m \u001b[0mmethod\u001b[0m\u001b[0;34m(\u001b[0m\u001b[0mprojfile\u001b[0m\u001b[0;34m=\u001b[0m\u001b[0mprojfile\u001b[0m\u001b[0;34m,\u001b[0m \u001b[0minputyaml\u001b[0m\u001b[0;34m=\u001b[0m\u001b[0minputyaml\u001b[0m\u001b[0;34m)\u001b[0m\u001b[0;34m\u001b[0m\u001b[0;34m\u001b[0m\u001b[0m\n\u001b[0m\u001b[1;32m     33\u001b[0m \u001b[0;34m\u001b[0m\u001b[0m\n\u001b[1;32m     34\u001b[0m \u001b[0;34m\u001b[0m\u001b[0m\n",
      "\u001b[0;32m~/git/ASPP_course/project/STEMSimPy/stemsimpy/__init__.py\u001b[0m in \u001b[0;36m_instantiate_fpms\u001b[0;34m(self, projfile, inputyaml)\u001b[0m\n\u001b[1;32m     36\u001b[0m         \"\"\" Method to instantiate a Frozen phonon Multislice simulation\n\u001b[1;32m     37\u001b[0m         \"\"\"\n\u001b[0;32m---> 38\u001b[0;31m         \u001b[0;32mreturn\u001b[0m \u001b[0mfpms\u001b[0m\u001b[0;34m.\u001b[0m\u001b[0mFrozenPhononMultislice\u001b[0m\u001b[0;34m(\u001b[0m\u001b[0mprojfile\u001b[0m\u001b[0;34m=\u001b[0m\u001b[0mprojfile\u001b[0m\u001b[0;34m,\u001b[0m \u001b[0minputyaml\u001b[0m\u001b[0;34m=\u001b[0m\u001b[0minputyaml\u001b[0m\u001b[0;34m)\u001b[0m\u001b[0;34m\u001b[0m\u001b[0;34m\u001b[0m\u001b[0m\n\u001b[0m\u001b[1;32m     39\u001b[0m \u001b[0;34m\u001b[0m\u001b[0m\n\u001b[1;32m     40\u001b[0m \u001b[0;34m\u001b[0m\u001b[0m\n",
      "\u001b[0;32m~/git/ASPP_course/project/STEMSimPy/stemsimpy/frozenphononmultislice.py\u001b[0m in \u001b[0;36m__init__\u001b[0;34m(self, projfile, inputyaml)\u001b[0m\n\u001b[1;32m     11\u001b[0m         \"\"\"\n\u001b[1;32m     12\u001b[0m         \u001b[0mprint\u001b[0m\u001b[0;34m(\u001b[0m\u001b[0;34m'instantiating FrozenPhononMultislice()'\u001b[0m\u001b[0;34m)\u001b[0m\u001b[0;34m\u001b[0m\u001b[0;34m\u001b[0m\u001b[0m\n\u001b[0;32m---> 13\u001b[0;31m         \u001b[0msuper\u001b[0m\u001b[0;34m(\u001b[0m\u001b[0;34m)\u001b[0m\u001b[0;34m.\u001b[0m\u001b[0m__init__\u001b[0m\u001b[0;34m(\u001b[0m\u001b[0mprojfile\u001b[0m\u001b[0;34m,\u001b[0m \u001b[0minputyaml\u001b[0m\u001b[0;34m)\u001b[0m\u001b[0;34m\u001b[0m\u001b[0;34m\u001b[0m\u001b[0m\n\u001b[0m\u001b[1;32m     14\u001b[0m \u001b[0;31m#        self._assemble_data(filelist)\u001b[0m\u001b[0;34m\u001b[0m\u001b[0;34m\u001b[0m\u001b[0;34m\u001b[0m\u001b[0m\n\u001b[1;32m     15\u001b[0m         \u001b[0;32mif\u001b[0m \u001b[0minputyaml\u001b[0m\u001b[0;34m:\u001b[0m\u001b[0;34m\u001b[0m\u001b[0;34m\u001b[0m\u001b[0m\n",
      "\u001b[0;32m~/git/ASPP_course/project/STEMSimPy/stemsimpy/_project.py\u001b[0m in \u001b[0;36m__init__\u001b[0;34m(self, projzarr, inputyaml)\u001b[0m\n\u001b[1;32m      7\u001b[0m \u001b[0;34m\u001b[0m\u001b[0m\n\u001b[1;32m      8\u001b[0m     \u001b[0;32mdef\u001b[0m \u001b[0m__init__\u001b[0m\u001b[0;34m(\u001b[0m\u001b[0mself\u001b[0m\u001b[0;34m,\u001b[0m \u001b[0mprojzarr\u001b[0m\u001b[0;34m=\u001b[0m\u001b[0;32mNone\u001b[0m\u001b[0;34m,\u001b[0m \u001b[0minputyaml\u001b[0m\u001b[0;34m=\u001b[0m\u001b[0;32mNone\u001b[0m\u001b[0;34m)\u001b[0m\u001b[0;34m:\u001b[0m\u001b[0;34m\u001b[0m\u001b[0;34m\u001b[0m\u001b[0m\n\u001b[0;32m----> 9\u001b[0;31m         \u001b[0msuper\u001b[0m\u001b[0;34m(\u001b[0m\u001b[0;34m)\u001b[0m\u001b[0;34m.\u001b[0m\u001b[0m__init__\u001b[0m\u001b[0;34m(\u001b[0m\u001b[0;34m)\u001b[0m\u001b[0;34m\u001b[0m\u001b[0;34m\u001b[0m\u001b[0m\n\u001b[0m\u001b[1;32m     10\u001b[0m         \u001b[0mself\u001b[0m\u001b[0;34m.\u001b[0m\u001b[0m_open_\u001b[0m\u001b[0;34m\u001b[0m\u001b[0;34m\u001b[0m\u001b[0m\n\u001b[1;32m     11\u001b[0m         \u001b[0;32mif\u001b[0m \u001b[0mprojzarr\u001b[0m\u001b[0;34m:\u001b[0m\u001b[0;34m\u001b[0m\u001b[0;34m\u001b[0m\u001b[0m\n",
      "\u001b[0;32m~/git/ASPP_course/project/STEMSimPy/stemsimpy/_projdefaults.py\u001b[0m in \u001b[0;36m__init__\u001b[0;34m(self, init_projstorage, init_settings)\u001b[0m\n\u001b[1;32m     37\u001b[0m             \u001b[0mself\u001b[0m\u001b[0;34m.\u001b[0m\u001b[0mprojstorage\u001b[0m \u001b[0;34m=\u001b[0m \u001b[0;32mNone\u001b[0m\u001b[0;34m\u001b[0m\u001b[0;34m\u001b[0m\u001b[0m\n\u001b[1;32m     38\u001b[0m \u001b[0;34m\u001b[0m\u001b[0m\n\u001b[0;32m---> 39\u001b[0;31m         \u001b[0;32mif\u001b[0m \u001b[0minit_from_projyaml\u001b[0m\u001b[0;34m:\u001b[0m\u001b[0;34m\u001b[0m\u001b[0;34m\u001b[0m\u001b[0m\n\u001b[0m\u001b[1;32m     40\u001b[0m             \u001b[0mself\u001b[0m\u001b[0;34m.\u001b[0m\u001b[0m_open_projstorage\u001b[0m\u001b[0;34m(\u001b[0m\u001b[0;34m)\u001b[0m\u001b[0;34m\u001b[0m\u001b[0;34m\u001b[0m\u001b[0m\n\u001b[1;32m     41\u001b[0m \u001b[0;34m\u001b[0m\u001b[0m\n",
      "\u001b[0;31mNameError\u001b[0m: name 'init_from_projyaml' is not defined"
     ]
    }
   ],
   "source": [
    "# Mode: Frozen Phonon Multislice (FPMS)\n",
    "\n",
    "sim = ssp.open_project(simtype='FPMS', projfile='project.zarr')"
   ]
  },
  {
   "cell_type": "code",
   "execution_count": 8,
   "metadata": {},
   "outputs": [
    {
     "ename": "TypeError",
     "evalue": "visititems() missing 1 required positional argument: 'func'",
     "output_type": "error",
     "traceback": [
      "\u001b[0;31m---------------------------------------------------------------------------\u001b[0m",
      "\u001b[0;31mTypeError\u001b[0m                                 Traceback (most recent call last)",
      "\u001b[0;32m<ipython-input-8-100fb7638e6d>\u001b[0m in \u001b[0;36m<module>\u001b[0;34m\u001b[0m\n\u001b[0;32m----> 1\u001b[0;31m \u001b[0mlist\u001b[0m\u001b[0;34m(\u001b[0m\u001b[0msim\u001b[0m\u001b[0;34m.\u001b[0m\u001b[0mvisititems\u001b[0m\u001b[0;34m(\u001b[0m\u001b[0;34m)\u001b[0m\u001b[0;34m)\u001b[0m\u001b[0;34m\u001b[0m\u001b[0;34m\u001b[0m\u001b[0m\n\u001b[0m",
      "\u001b[0;31mTypeError\u001b[0m: visititems() missing 1 required positional argument: 'func'"
     ]
    }
   ],
   "source": []
  },
  {
   "cell_type": "code",
   "execution_count": 2,
   "metadata": {},
   "outputs": [
    {
     "name": "stdout",
     "output_type": "stream",
     "text": [
      "672 672\n",
      "[(1, 1, -5.70608214e-05, -3.73839526e-05)\n",
      " (1, 2, -5.57894846e-05, -3.44194318e-05)\n",
      " (1, 3, -5.65341601e-05, -3.93316786e-05)\n",
      " (1, 4, -4.97186075e-05, -2.83264370e-05)\n",
      " (1, 5, -5.88305637e-05, -2.22465474e-05)]\n",
      "[(2, 1, -6.65763689e-05, -3.39125728e-05)\n",
      " (2, 2, -5.73706435e-05, -3.33289651e-05)\n",
      " (2, 3, -5.53139000e-05, -3.36868460e-05)]\n",
      "[-5.70608214e-05 -5.57894846e-05 -5.65341601e-05 -4.97186075e-05\n",
      " -5.88305637e-05 -6.70767022e-05 -5.81063789e-05 -4.74691535e-05\n",
      " -4.09531040e-05 -4.16275255e-05]\n",
      "(451584,)\n",
      "451584\n",
      "(672, 672)\n",
      "(-5.70608213744e-05-3.73839525961e-05j) (-5.5789484563e-05-3.44194317736e-05j) (-6.6576368874e-05-3.3912572756e-05j)\n"
     ]
    }
   ],
   "source": [
    "ssp.fileio.array_from_multislice('testdata/beampos_x0_y0/snapshot100040_ms/fort.33')"
   ]
  },
  {
   "cell_type": "code",
   "execution_count": 4,
   "metadata": {},
   "outputs": [],
   "source": [
    "yamldata = ssp.fileio.open_yaml('simulation.yaml')"
   ]
  },
  {
   "cell_type": "code",
   "execution_count": 11,
   "metadata": {},
   "outputs": [
    {
     "name": "stdout",
     "output_type": "stream",
     "text": [
      "temperature\n",
      "temperature_unit\n",
      "multislice_run_paths\n",
      "fname_diffpatt\n",
      "fname_multislicein\n"
     ]
    }
   ],
   "source": [
    "for key in yamldata.keys():\n",
    "    print(key)"
   ]
  }
 ],
 "metadata": {
  "kernelspec": {
   "display_name": "Python 3",
   "language": "python",
   "name": "python3"
  },
  "language_info": {
   "codemirror_mode": {
    "name": "ipython",
    "version": 3
   },
   "file_extension": ".py",
   "mimetype": "text/x-python",
   "name": "python",
   "nbconvert_exporter": "python",
   "pygments_lexer": "ipython3",
   "version": "3.7.4"
  }
 },
 "nbformat": 4,
 "nbformat_minor": 4
}
